{
 "cells": [
  {
   "cell_type": "code",
   "execution_count": 108,
   "id": "49b9a3ff",
   "metadata": {},
   "outputs": [],
   "source": [
    "import pandas as pd\n",
    "import numpy as np\n",
    "import matplotlib.pyplot as plt\n",
    "import seaborn as sns\n",
    "%matplotlib inline"
   ]
  },
  {
   "cell_type": "code",
   "execution_count": 109,
   "id": "38d35e73",
   "metadata": {},
   "outputs": [],
   "source": [
    "ds=pd.read_csv('data_preprocessed.csv')"
   ]
  },
  {
   "cell_type": "code",
   "execution_count": 110,
   "id": "9534e340",
   "metadata": {},
   "outputs": [
    {
     "data": {
      "text/html": [
       "<div>\n",
       "<style scoped>\n",
       "    .dataframe tbody tr th:only-of-type {\n",
       "        vertical-align: middle;\n",
       "    }\n",
       "\n",
       "    .dataframe tbody tr th {\n",
       "        vertical-align: top;\n",
       "    }\n",
       "\n",
       "    .dataframe thead th {\n",
       "        text-align: right;\n",
       "    }\n",
       "</style>\n",
       "<table border=\"1\" class=\"dataframe\">\n",
       "  <thead>\n",
       "    <tr style=\"text-align: right;\">\n",
       "      <th></th>\n",
       "      <th>Unnamed: 0</th>\n",
       "      <th>location</th>\n",
       "      <th>type</th>\n",
       "      <th>subtype</th>\n",
       "      <th>price</th>\n",
       "      <th>room_number</th>\n",
       "      <th>area</th>\n",
       "      <th>kitchen_equipped</th>\n",
       "      <th>furnished</th>\n",
       "      <th>fireplace</th>\n",
       "      <th>...</th>\n",
       "      <th>BRABANT FLAMAND</th>\n",
       "      <th>BRABANT WALLON</th>\n",
       "      <th>BRUXELLES.1</th>\n",
       "      <th>FLANDRE-OCCIDENTALE</th>\n",
       "      <th>FLANDRE-ORIENTALE</th>\n",
       "      <th>HAINAUT</th>\n",
       "      <th>LIEGE</th>\n",
       "      <th>LIMBOURG</th>\n",
       "      <th>LUXEMBOURG</th>\n",
       "      <th>NAMUR</th>\n",
       "    </tr>\n",
       "  </thead>\n",
       "  <tbody>\n",
       "    <tr>\n",
       "      <th>0</th>\n",
       "      <td>0</td>\n",
       "      <td>6800</td>\n",
       "      <td>HOUSE</td>\n",
       "      <td>HOUSE</td>\n",
       "      <td>295000.0</td>\n",
       "      <td>5</td>\n",
       "      <td>460.0</td>\n",
       "      <td>1</td>\n",
       "      <td>0</td>\n",
       "      <td>0</td>\n",
       "      <td>...</td>\n",
       "      <td>0</td>\n",
       "      <td>0</td>\n",
       "      <td>0</td>\n",
       "      <td>0</td>\n",
       "      <td>0</td>\n",
       "      <td>0</td>\n",
       "      <td>0</td>\n",
       "      <td>0</td>\n",
       "      <td>1</td>\n",
       "      <td>0</td>\n",
       "    </tr>\n",
       "    <tr>\n",
       "      <th>1</th>\n",
       "      <td>1</td>\n",
       "      <td>7800</td>\n",
       "      <td>HOUSE</td>\n",
       "      <td>HOUSE</td>\n",
       "      <td>230000.0</td>\n",
       "      <td>4</td>\n",
       "      <td>128.0</td>\n",
       "      <td>0</td>\n",
       "      <td>0</td>\n",
       "      <td>0</td>\n",
       "      <td>...</td>\n",
       "      <td>0</td>\n",
       "      <td>0</td>\n",
       "      <td>0</td>\n",
       "      <td>0</td>\n",
       "      <td>0</td>\n",
       "      <td>1</td>\n",
       "      <td>0</td>\n",
       "      <td>0</td>\n",
       "      <td>0</td>\n",
       "      <td>0</td>\n",
       "    </tr>\n",
       "    <tr>\n",
       "      <th>2</th>\n",
       "      <td>2</td>\n",
       "      <td>6044</td>\n",
       "      <td>HOUSE</td>\n",
       "      <td>HOUSE</td>\n",
       "      <td>130000.0</td>\n",
       "      <td>2</td>\n",
       "      <td>110.0</td>\n",
       "      <td>1</td>\n",
       "      <td>1</td>\n",
       "      <td>0</td>\n",
       "      <td>...</td>\n",
       "      <td>0</td>\n",
       "      <td>0</td>\n",
       "      <td>0</td>\n",
       "      <td>0</td>\n",
       "      <td>0</td>\n",
       "      <td>1</td>\n",
       "      <td>0</td>\n",
       "      <td>0</td>\n",
       "      <td>0</td>\n",
       "      <td>0</td>\n",
       "    </tr>\n",
       "    <tr>\n",
       "      <th>3</th>\n",
       "      <td>3</td>\n",
       "      <td>4970</td>\n",
       "      <td>HOUSE</td>\n",
       "      <td>HOUSE</td>\n",
       "      <td>450000.0</td>\n",
       "      <td>9</td>\n",
       "      <td>400.0</td>\n",
       "      <td>1</td>\n",
       "      <td>0</td>\n",
       "      <td>0</td>\n",
       "      <td>...</td>\n",
       "      <td>0</td>\n",
       "      <td>0</td>\n",
       "      <td>0</td>\n",
       "      <td>0</td>\n",
       "      <td>0</td>\n",
       "      <td>0</td>\n",
       "      <td>1</td>\n",
       "      <td>0</td>\n",
       "      <td>0</td>\n",
       "      <td>0</td>\n",
       "    </tr>\n",
       "    <tr>\n",
       "      <th>4</th>\n",
       "      <td>4</td>\n",
       "      <td>9890</td>\n",
       "      <td>HOUSE</td>\n",
       "      <td>MANSION</td>\n",
       "      <td>435000.0</td>\n",
       "      <td>5</td>\n",
       "      <td>452.0</td>\n",
       "      <td>0</td>\n",
       "      <td>0</td>\n",
       "      <td>0</td>\n",
       "      <td>...</td>\n",
       "      <td>0</td>\n",
       "      <td>0</td>\n",
       "      <td>0</td>\n",
       "      <td>0</td>\n",
       "      <td>1</td>\n",
       "      <td>0</td>\n",
       "      <td>0</td>\n",
       "      <td>0</td>\n",
       "      <td>0</td>\n",
       "      <td>0</td>\n",
       "    </tr>\n",
       "  </tbody>\n",
       "</table>\n",
       "<p>5 rows × 68 columns</p>\n",
       "</div>"
      ],
      "text/plain": [
       "   Unnamed: 0  location   type  subtype     price  room_number   area  \\\n",
       "0           0      6800  HOUSE    HOUSE  295000.0            5  460.0   \n",
       "1           1      7800  HOUSE    HOUSE  230000.0            4  128.0   \n",
       "2           2      6044  HOUSE    HOUSE  130000.0            2  110.0   \n",
       "3           3      4970  HOUSE    HOUSE  450000.0            9  400.0   \n",
       "4           4      9890  HOUSE  MANSION  435000.0            5  452.0   \n",
       "\n",
       "   kitchen_equipped  furnished  fireplace  ...  BRABANT FLAMAND  \\\n",
       "0                 1          0          0  ...                0   \n",
       "1                 0          0          0  ...                0   \n",
       "2                 1          1          0  ...                0   \n",
       "3                 1          0          0  ...                0   \n",
       "4                 0          0          0  ...                0   \n",
       "\n",
       "   BRABANT WALLON  BRUXELLES.1  FLANDRE-OCCIDENTALE  FLANDRE-ORIENTALE  \\\n",
       "0               0            0                    0                  0   \n",
       "1               0            0                    0                  0   \n",
       "2               0            0                    0                  0   \n",
       "3               0            0                    0                  0   \n",
       "4               0            0                    0                  1   \n",
       "\n",
       "   HAINAUT  LIEGE LIMBOURG LUXEMBOURG NAMUR  \n",
       "0        0      0        0          1     0  \n",
       "1        1      0        0          0     0  \n",
       "2        1      0        0          0     0  \n",
       "3        0      1        0          0     0  \n",
       "4        0      0        0          0     0  \n",
       "\n",
       "[5 rows x 68 columns]"
      ]
     },
     "execution_count": 110,
     "metadata": {},
     "output_type": "execute_result"
    }
   ],
   "source": [
    "ds.head(5)"
   ]
  },
  {
   "cell_type": "code",
   "execution_count": 111,
   "id": "adcab8ee",
   "metadata": {},
   "outputs": [],
   "source": [
    "ds=ds.drop('Unnamed: 0',axis=1)"
   ]
  },
  {
   "cell_type": "code",
   "execution_count": 112,
   "id": "d337e401",
   "metadata": {},
   "outputs": [],
   "source": [
    "ds1= ds.select_dtypes(exclude=['object'])"
   ]
  },
  {
   "cell_type": "code",
   "execution_count": 113,
   "id": "396d3210",
   "metadata": {},
   "outputs": [
    {
     "data": {
      "text/plain": [
       "(14527, 59)"
      ]
     },
     "execution_count": 113,
     "metadata": {},
     "output_type": "execute_result"
    }
   ],
   "source": [
    "ds1.shape"
   ]
  },
  {
   "cell_type": "markdown",
   "id": "b8a0dd68",
   "metadata": {},
   "source": [
    "### GradientBoostingRegressor"
   ]
  },
  {
   "cell_type": "code",
   "execution_count": 114,
   "id": "9458a7da",
   "metadata": {},
   "outputs": [],
   "source": [
    "X = ds1.drop(['price','garden_area','terrace_area','land_surface','facade_count'],axis=1)\n",
    "y= ds1['price']\n",
    "\n",
    "\n"
   ]
  },
  {
   "cell_type": "code",
   "execution_count": 115,
   "id": "aa56abd3",
   "metadata": {},
   "outputs": [],
   "source": [
    "from sklearn.model_selection import train_test_split\n",
    "\n",
    "X_train, X_test, y_train, y_test = train_test_split(X, y, test_size=0.2, random_state=42)\n"
   ]
  },
  {
   "cell_type": "code",
   "execution_count": 116,
   "id": "9b397a27",
   "metadata": {},
   "outputs": [],
   "source": [
    "from sklearn.ensemble import GradientBoostingRegressor"
   ]
  },
  {
   "cell_type": "code",
   "execution_count": 117,
   "id": "adc0573b",
   "metadata": {},
   "outputs": [],
   "source": [
    "\n",
    "estim= GradientBoostingRegressor(n_estimators=100, max_depth=3, min_samples_split=2, learning_rate=0.1, loss='ls')\n"
   ]
  },
  {
   "cell_type": "code",
   "execution_count": 118,
   "id": "8bd16ce7",
   "metadata": {},
   "outputs": [
    {
     "data": {
      "text/plain": [
       "GradientBoostingRegressor()"
      ]
     },
     "execution_count": 118,
     "metadata": {},
     "output_type": "execute_result"
    }
   ],
   "source": [
    "estim.fit(X_train, y_train)\n",
    "\n"
   ]
  },
  {
   "cell_type": "code",
   "execution_count": 119,
   "id": "32481890",
   "metadata": {},
   "outputs": [
    {
     "data": {
      "text/plain": [
       "0.7733760810502769"
      ]
     },
     "execution_count": 119,
     "metadata": {},
     "output_type": "execute_result"
    }
   ],
   "source": [
    "estim.score(X_train, y_train)"
   ]
  },
  {
   "cell_type": "code",
   "execution_count": 120,
   "id": "5fe5c20a",
   "metadata": {},
   "outputs": [],
   "source": [
    "\n",
    "y_pred = estim.predict(X_test)\n",
    "\n"
   ]
  },
  {
   "cell_type": "code",
   "execution_count": 121,
   "id": "8c879c85",
   "metadata": {},
   "outputs": [
    {
     "data": {
      "text/plain": [
       "0.7109683261792695"
      ]
     },
     "execution_count": 121,
     "metadata": {},
     "output_type": "execute_result"
    }
   ],
   "source": [
    "estim.score(X_test, y_test)"
   ]
  },
  {
   "cell_type": "markdown",
   "id": "c9dc7ce2",
   "metadata": {},
   "source": [
    "### GradientBoostingRegressor house or ap"
   ]
  },
  {
   "cell_type": "code",
   "execution_count": 122,
   "id": "61693989",
   "metadata": {},
   "outputs": [],
   "source": [
    "ds_apartment=ds[ds['type']=='APARTMENT']\n",
    "ds_house=ds[ds['type']=='HOUSE']"
   ]
  },
  {
   "cell_type": "code",
   "execution_count": 123,
   "id": "5be6070d",
   "metadata": {},
   "outputs": [],
   "source": [
    "ds_apartment_n = ds_apartment.select_dtypes(exclude=['object'])\n",
    "ds_house_n=ds_house.select_dtypes(exclude=['object'])"
   ]
  },
  {
   "cell_type": "code",
   "execution_count": 124,
   "id": "e5c7143a",
   "metadata": {},
   "outputs": [],
   "source": [
    "X_apartment = ds_apartment_n.drop(['price','garden_area','terrace_area','land_surface','facade_count'],axis=1)\n",
    "y_apartment = ds_apartment['price']\n",
    "\n",
    "\n",
    "X_house=ds_house_n.drop(['price','garden_area','terrace_area','facade_count'],axis=1)\n",
    "y_house= ds_house['price']"
   ]
  },
  {
   "cell_type": "code",
   "execution_count": 125,
   "id": "ad93517a",
   "metadata": {},
   "outputs": [],
   "source": [
    "from sklearn.model_selection import train_test_split\n",
    "\n",
    "X_apartment_train, X_apartment_test, y_apartment_train, y_apartment_test = train_test_split(X_apartment, y_apartment, test_size=0.2, random_state=42)\n",
    "X_house_train, X_house_test, y_house_train, y_house_test = train_test_split(X_house, y_house, test_size=0.2, random_state=42)"
   ]
  },
  {
   "cell_type": "code",
   "execution_count": 126,
   "id": "58ff324d",
   "metadata": {},
   "outputs": [],
   "source": [
    "\n",
    "estim_h = GradientBoostingRegressor(n_estimators=100, max_depth=3, min_samples_split=2, learning_rate=0.1, loss='ls')\n",
    "estim_a = GradientBoostingRegressor(n_estimators=100, max_depth=3, min_samples_split=2, learning_rate=0.1, loss='ls')"
   ]
  },
  {
   "cell_type": "code",
   "execution_count": 127,
   "id": "5b68e189",
   "metadata": {},
   "outputs": [
    {
     "data": {
      "text/plain": [
       "GradientBoostingRegressor()"
      ]
     },
     "execution_count": 127,
     "metadata": {},
     "output_type": "execute_result"
    }
   ],
   "source": [
    "estim_h.fit(X_house_train, y_house_train)\n",
    "\n",
    "estim_a.fit(X_apartment_train, y_apartment_train)"
   ]
  },
  {
   "cell_type": "code",
   "execution_count": 128,
   "id": "50969ae1",
   "metadata": {},
   "outputs": [
    {
     "data": {
      "text/plain": [
       "0.8213227868202916"
      ]
     },
     "execution_count": 128,
     "metadata": {},
     "output_type": "execute_result"
    }
   ],
   "source": [
    "estim_h.score(X_house_train, y_house_train)\n"
   ]
  },
  {
   "cell_type": "code",
   "execution_count": 129,
   "id": "9d647e23",
   "metadata": {},
   "outputs": [
    {
     "data": {
      "text/plain": [
       "0.785042316786239"
      ]
     },
     "execution_count": 129,
     "metadata": {},
     "output_type": "execute_result"
    }
   ],
   "source": [
    "estim_a.score(X_apartment_train, y_apartment_train)"
   ]
  },
  {
   "cell_type": "code",
   "execution_count": 130,
   "id": "d7791aa3",
   "metadata": {},
   "outputs": [],
   "source": [
    "\n",
    "y_pred_ap = estim_a.predict(X_apartment_test)\n",
    "y_pred_h = estim_h.predict(X_house_test)\n"
   ]
  },
  {
   "cell_type": "code",
   "execution_count": 131,
   "id": "a3d05e57",
   "metadata": {},
   "outputs": [
    {
     "data": {
      "text/plain": [
       "0.7527246500609095"
      ]
     },
     "execution_count": 131,
     "metadata": {},
     "output_type": "execute_result"
    }
   ],
   "source": [
    "estim_h.score(X_house_test, y_house_test)"
   ]
  },
  {
   "cell_type": "code",
   "execution_count": 132,
   "id": "d2ebd994",
   "metadata": {},
   "outputs": [
    {
     "data": {
      "text/plain": [
       "0.7052749372877913"
      ]
     },
     "execution_count": 132,
     "metadata": {},
     "output_type": "execute_result"
    }
   ],
   "source": [
    "estim_a.score(X_apartment_test, y_apartment_test)"
   ]
  },
  {
   "cell_type": "code",
   "execution_count": null,
   "id": "a6381c83",
   "metadata": {},
   "outputs": [],
   "source": []
  },
  {
   "cell_type": "code",
   "execution_count": null,
   "id": "e017b39c",
   "metadata": {},
   "outputs": [],
   "source": []
  }
 ],
 "metadata": {
  "kernelspec": {
   "display_name": "Python 3",
   "language": "python",
   "name": "python3"
  },
  "language_info": {
   "codemirror_mode": {
    "name": "ipython",
    "version": 3
   },
   "file_extension": ".py",
   "mimetype": "text/x-python",
   "name": "python",
   "nbconvert_exporter": "python",
   "pygments_lexer": "ipython3",
   "version": "3.8.8"
  }
 },
 "nbformat": 4,
 "nbformat_minor": 5
}
